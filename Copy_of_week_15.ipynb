{
  "nbformat": 4,
  "nbformat_minor": 0,
  "metadata": {
    "colab": {
      "provenance": [],
      "include_colab_link": true
    },
    "kernelspec": {
      "name": "ir",
      "display_name": "R"
    },
    "language_info": {
      "name": "R"
    }
  },
  "cells": [
    {
      "cell_type": "markdown",
      "metadata": {
        "id": "view-in-github",
        "colab_type": "text"
      },
      "source": [
        "<a href=\"https://colab.research.google.com/github/yuthimreddy/ds1002-hva4zb/blob/main/Copy_of_week_15.ipynb\" target=\"_parent\"><img src=\"https://colab.research.google.com/assets/colab-badge.svg\" alt=\"Open In Colab\"/></a>"
      ]
    },
    {
      "cell_type": "markdown",
      "source": [
        "# Homework - Week 15\n",
        "\n",
        "Complete the following blocks as specified in the directions. Run each cell to return the desired output. Save your notebook back to your GitHub repository and submit the GitHub URL to your notebook for review."
      ],
      "metadata": {
        "id": "sZruw3XQogej"
      }
    },
    {
      "cell_type": "markdown",
      "source": [
        "## 1. Create Functions (4 pts)\n",
        "\n",
        "Create two functions in the cells below, according to the prompts given."
      ],
      "metadata": {
        "id": "lkaofBQypx1X"
      }
    },
    {
      "cell_type": "code",
      "source": [
        "# create a function in R that:\n",
        "#   1. takes a single integer as an input parameter\n",
        "#   2. determines whether the integer is even or odd\n",
        "#   3. returns a character statement \"The integer <x> is even\" or \"The integer <x> is odd\" (replace <x> with the actual input provided)\n",
        "#\n",
        "# then execute the function twice using two different input values, displaying even and odd results.\n",
        "\n",
        "evenodd <- function(x){\n",
        "  if (x %% 2 == 1){\n",
        "  sprintf(\"The integer %i is odd\", x)\n",
        "} else {\n",
        "  sprintf(\"The integer %i is even\", x)\n",
        "}}\n",
        "\n",
        "evenodd(13)\n",
        "evenodd(12)"
      ],
      "metadata": {
        "id": "1fjq5bkEp6Zv",
        "outputId": "d816eef2-b400-4385-a518-20d4ebca3ae1",
        "colab": {
          "base_uri": "https://localhost:8080/",
          "height": 51
        }
      },
      "execution_count": null,
      "outputs": [
        {
          "output_type": "display_data",
          "data": {
            "text/html": [
              "'The integer 13 is odd'"
            ],
            "text/markdown": "'The integer 13 is odd'",
            "text/latex": "'The integer 13 is odd'",
            "text/plain": [
              "[1] \"The integer 13 is odd\""
            ]
          },
          "metadata": {}
        },
        {
          "output_type": "display_data",
          "data": {
            "text/html": [
              "'The integer 12 is even'"
            ],
            "text/markdown": "'The integer 12 is even'",
            "text/latex": "'The integer 12 is even'",
            "text/plain": [
              "[1] \"The integer 12 is even\""
            ]
          },
          "metadata": {}
        }
      ]
    },
    {
      "cell_type": "code",
      "source": [
        "# create a function in R that:\n",
        "#   1. takes 4 integer input parameters\n",
        "#   2. returns the mean value of the inputs\n",
        "#   3. has default values for the 4 input parameters, in case they are not provided when the function is called.\n",
        "#\n",
        "# then execute the function twice: once where you provide the input values, and once where you do not.\n",
        "\n",
        "meancalculator <- function(a = 2, b = 3, c = 4, d = 5) {\n",
        "  newval <- c(a, b, c, d)\n",
        "  return(mean(newval))\n",
        "}\n",
        "\n",
        "meancalculator()\n",
        "meancalculator(5,10,15,20)"
      ],
      "metadata": {
        "id": "f3IFD-T6p6Rd",
        "outputId": "bdafbad9-fb65-4509-d757-9b26991accdb",
        "colab": {
          "base_uri": "https://localhost:8080/",
          "height": 51
        }
      },
      "execution_count": null,
      "outputs": [
        {
          "output_type": "display_data",
          "data": {
            "text/html": [
              "3.5"
            ],
            "text/markdown": "3.5",
            "text/latex": "3.5",
            "text/plain": [
              "[1] 3.5"
            ]
          },
          "metadata": {}
        },
        {
          "output_type": "display_data",
          "data": {
            "text/html": [
              "12.5"
            ],
            "text/markdown": "12.5",
            "text/latex": "12.5",
            "text/plain": [
              "[1] 12.5"
            ]
          },
          "metadata": {}
        }
      ]
    },
    {
      "cell_type": "markdown",
      "source": [
        "## 2. Plot Data (4 pts)"
      ],
      "metadata": {
        "id": "F6Rx0GIGrpOB"
      }
    },
    {
      "cell_type": "markdown",
      "source": [
        "In the cell below, write the code required to plot from the `msleep` sample data set.\n",
        "\n",
        "1. Display only animals with body weights of 30 or greater.\n",
        "2. Group the animals by `order`.\n",
        "3. Display the mean `sleep_total` for each group in a bar plot."
      ],
      "metadata": {
        "id": "IDLyOjOJsFCX"
      }
    },
    {
      "cell_type": "code",
      "source": [
        "#\n",
        "library(tidyverse)\n",
        "library(ggplot2)\n",
        "install.packages(\"gapminder\")\n",
        "library(gapminder)\n",
        "library()"
      ],
      "metadata": {
        "id": "0D5Ia-BPsoPZ",
        "colab": {
          "base_uri": "https://localhost:8080/"
        },
        "outputId": "a4290107-9f68-433c-ce48-747d9e7aa1a1"
      },
      "execution_count": 85,
      "outputs": [
        {
          "output_type": "stream",
          "name": "stderr",
          "text": [
            "Installing package into ‘/usr/local/lib/R/site-library’\n",
            "(as ‘lib’ is unspecified)\n",
            "\n"
          ]
        }
      ]
    },
    {
      "cell_type": "code",
      "source": [
        "#1 & 2\n",
        "?msleep\n",
        "plotdata <- msleep %>%\n",
        "  filter(bodywt >= 30) %>%\n",
        "  arrange(order)"
      ],
      "metadata": {
        "id": "LwQmfCqcN55-"
      },
      "execution_count": null,
      "outputs": []
    },
    {
      "cell_type": "code",
      "source": [
        "#\n",
        "ggplot(\n",
        "  data = plotdata,\n",
        "  mapping = aes(x = order, y = sleep_total)) +\n",
        "    geom_bar(stat = \"identity\", fill = \"orange\")"
      ],
      "metadata": {
        "id": "V4nBsdVsyauQ",
        "colab": {
          "base_uri": "https://localhost:8080/",
          "height": 437
        },
        "outputId": "d262e4ec-c5b9-4e75-9929-c74b90a11ac6"
      },
      "execution_count": 40,
      "outputs": [
        {
          "output_type": "display_data",
          "data": {
            "text/plain": [
              "plot without title"
            ],
            "image/png": "[encoded data removed]"
          },
          "metadata": {
            "image/png": {
              "width": 420,
              "height": 420
            }
          }
        }
      ]
    },
    {
      "cell_type": "markdown",
      "source": [
        "# 3. Clean and Analyze Data Using R (4 pts)\n",
        "\n",
        "In the cells below use R to perform the following data cleaning steps on this file: https://raw.githubusercontent.com/nmagee/ds1002/main/data/social-media-users.csv\n",
        "\n",
        "1. Remove any duplicate rows.\n",
        "2. Remove any records where last_login or birthdate are empty.\n",
        "3. Display only the records with the 10 highest follower counts.\n",
        "4. Determine counts of users when grouped by continent.\n",
        "\n"
      ],
      "metadata": {
        "id": "FcDhWZkAfrCk"
      }
    },
    {
      "cell_type": "code",
      "source": [
        "df <- read.csv(\"https://raw.githubusercontent.com/nmagee/ds1002/main/data/social-media-users.csv\")"
      ],
      "metadata": {
        "id": "mfQGFA4gf-Wr"
      },
      "execution_count": 99,
      "outputs": []
    },
    {
      "cell_type": "code",
      "source": [
        "#1. removing duplicates\n",
        "df2 <- df[!duplicated(df), ]"
      ],
      "metadata": {
        "id": "LwXD1sNulIT3"
      },
      "execution_count": 100,
      "outputs": []
    },
    {
      "cell_type": "code",
      "source": [
        "#2. I was not sure how to properly use the pivot function\n",
        "#mentioned in the oreily textbook for cleaning implicitly missing\n",
        "#data, but this was just my best attempt\n",
        "nomissingdf <- df[complete.cases(df), ]\n",
        "nomissingdf |>\n",
        "  pivot_wider(\n",
        "    values_from = last_login,\n",
        "    values_from = birthdate\n",
        "  )\n",
        "\n",
        ""
      ],
      "metadata": {
        "id": "7qa100btlI4Z"
      },
      "execution_count": null,
      "outputs": []
    },
    {
      "cell_type": "code",
      "source": [
        "#3.\n",
        "df3 <- df2 %>%\n",
        "  arrange(desc(followers))\n",
        " head(df3, 10)"
      ],
      "metadata": {
        "id": "MjrZisnxlJUa",
        "colab": {
          "base_uri": "https://localhost:8080/",
          "height": 580
        },
        "outputId": "25f66e9c-59da-49b4-eede-1d42b5760d41"
      },
      "execution_count": 102,
      "outputs": [
        {
          "output_type": "display_data",
          "data": {
            "text/html": [
              "<table class=\"dataframe\">\n",
              "<caption>A data.frame: 10 × 8</caption>\n",
              "<thead>\n",
              "\t<tr><th></th><th scope=col>username</th><th scope=col>full_name</th><th scope=col>birthdate</th><th scope=col>email</th><th scope=col>continent</th><th scope=col>followers</th><th scope=col>last_login</th><th scope=col>interests</th></tr>\n",
              "\t<tr><th></th><th scope=col>&lt;chr&gt;</th><th scope=col>&lt;chr&gt;</th><th scope=col>&lt;chr&gt;</th><th scope=col>&lt;chr&gt;</th><th scope=col>&lt;chr&gt;</th><th scope=col>&lt;int&gt;</th><th scope=col>&lt;chr&gt;</th><th scope=col>&lt;chr&gt;</th></tr>\n",
              "</thead>\n",
              "<tbody>\n",
              "\t<tr><th scope=row>1</th><td>lleckeyb6    </td><td>Lynne Leckey    </td><td>4/19/1998 </td><td>lleckeyb6@tripadvisor.com         </td><td>SA</td><td>99977</td><td>3/14/2021 </td><td>sports</td></tr>\n",
              "\t<tr><th scope=row>2</th><td>spharoaha2   </td><td>Staci Pharoah   </td><td>9/2/1985  </td><td>spharoaha2@sfgate.com             </td><td>NA</td><td>99905</td><td>10/26/2023</td><td>sports</td></tr>\n",
              "\t<tr><th scope=row>3</th><td>dpagettqf    </td><td>Des Pagett      </td><td>4/1/1992  </td><td>dpagettqf@360.cn                  </td><td>NA</td><td>99854</td><td>          </td><td>music </td></tr>\n",
              "\t<tr><th scope=row>4</th><td>cbraderkb    </td><td>Cody Brader     </td><td>          </td><td>cbraderkb@lulu.com                </td><td>AF</td><td>99747</td><td>6/19/2021 </td><td>music </td></tr>\n",
              "\t<tr><th scope=row>5</th><td>djagerdv     </td><td>Deeyn Jager     </td><td>          </td><td>djagerdv@posterous.com            </td><td>AF</td><td>99731</td><td>4/7/2022  </td><td>travel</td></tr>\n",
              "\t<tr><th scope=row>6</th><td>cduftondy    </td><td>Celisse Dufton  </td><td>8/24/1995 </td><td>cduftondy@ox.ac.uk                </td><td>OC</td><td>99707</td><td>9/26/2021 </td><td>sports</td></tr>\n",
              "\t<tr><th scope=row>7</th><td>dbartalin77  </td><td>Desiree Bartalin</td><td>8/23/1993 </td><td>dbartalin77@usda.gov              </td><td>AF</td><td>99618</td><td>5/30/2022 </td><td>music </td></tr>\n",
              "\t<tr><th scope=row>8</th><td>grivardmp    </td><td>Gwen Rivard     </td><td>9/12/1982 </td><td>grivardmp@google.com.hk           </td><td>OC</td><td>99526</td><td>4/4/2020  </td><td>music </td></tr>\n",
              "\t<tr><th scope=row>9</th><td>mraggitt9g   </td><td>Morgan Raggitt  </td><td>11/16/1992</td><td>mraggitt9g@home.pl                </td><td>NA</td><td>99508</td><td>11/12/2021</td><td>music </td></tr>\n",
              "\t<tr><th scope=row>10</th><td>vshallcrass3p</td><td>Vally Shallcrass</td><td>9/26/2002 </td><td>vshallcrass3p@pagesperso-orange.fr</td><td>NA</td><td>99419</td><td>          </td><td>music </td></tr>\n",
              "</tbody>\n",
              "</table>\n"
            ],
            "text/markdown": "\nA data.frame: 10 × 8\n\n| <!--/--> | username &lt;chr&gt; | full_name &lt;chr&gt; | birthdate &lt;chr&gt; | email &lt;chr&gt; | continent &lt;chr&gt; | followers &lt;int&gt; | last_login &lt;chr&gt; | interests &lt;chr&gt; |\n|---|---|---|---|---|---|---|---|---|\n| 1 | lleckeyb6     | Lynne Leckey     | 4/19/1998  | lleckeyb6@tripadvisor.com          | SA | 99977 | 3/14/2021  | sports |\n| 2 | spharoaha2    | Staci Pharoah    | 9/2/1985   | spharoaha2@sfgate.com              | NA | 99905 | 10/26/2023 | sports |\n| 3 | dpagettqf     | Des Pagett       | 4/1/1992   | dpagettqf@360.cn                   | NA | 99854 | <!----> | music  |\n| 4 | cbraderkb     | Cody Brader      | <!----> | cbraderkb@lulu.com                 | AF | 99747 | 6/19/2021  | music  |\n| 5 | djagerdv      | Deeyn Jager      | <!----> | djagerdv@posterous.com             | AF | 99731 | 4/7/2022   | travel |\n| 6 | cduftondy     | Celisse Dufton   | 8/24/1995  | cduftondy@ox.ac.uk                 | OC | 99707 | 9/26/2021  | sports |\n| 7 | dbartalin77   | Desiree Bartalin | 8/23/1993  | dbartalin77@usda.gov               | AF | 99618 | 5/30/2022  | music  |\n| 8 | grivardmp     | Gwen Rivard      | 9/12/1982  | grivardmp@google.com.hk            | OC | 99526 | 4/4/2020   | music  |\n| 9 | mraggitt9g    | Morgan Raggitt   | 11/16/1992 | mraggitt9g@home.pl                 | NA | 99508 | 11/12/2021 | music  |\n| 10 | vshallcrass3p | Vally Shallcrass | 9/26/2002  | vshallcrass3p@pagesperso-orange.fr | NA | 99419 | <!----> | music  |\n\n",
            "text/latex": "A data.frame: 10 × 8\n\\begin{tabular}{r|llllllll}\n  & username & full\\_name & birthdate & email & continent & followers & last\\_login & interests\\\\\n  & <chr> & <chr> & <chr> & <chr> & <chr> & <int> & <chr> & <chr>\\\\\n\\hline\n\t1 & lleckeyb6     & Lynne Leckey     & 4/19/1998  & lleckeyb6@tripadvisor.com          & SA & 99977 & 3/14/2021  & sports\\\\\n\t2 & spharoaha2    & Staci Pharoah    & 9/2/1985   & spharoaha2@sfgate.com              & NA & 99905 & 10/26/2023 & sports\\\\\n\t3 & dpagettqf     & Des Pagett       & 4/1/1992   & dpagettqf@360.cn                   & NA & 99854 &            & music \\\\\n\t4 & cbraderkb     & Cody Brader      &            & cbraderkb@lulu.com                 & AF & 99747 & 6/19/2021  & music \\\\\n\t5 & djagerdv      & Deeyn Jager      &            & djagerdv@posterous.com             & AF & 99731 & 4/7/2022   & travel\\\\\n\t6 & cduftondy     & Celisse Dufton   & 8/24/1995  & cduftondy@ox.ac.uk                 & OC & 99707 & 9/26/2021  & sports\\\\\n\t7 & dbartalin77   & Desiree Bartalin & 8/23/1993  & dbartalin77@usda.gov               & AF & 99618 & 5/30/2022  & music \\\\\n\t8 & grivardmp     & Gwen Rivard      & 9/12/1982  & grivardmp@google.com.hk            & OC & 99526 & 4/4/2020   & music \\\\\n\t9 & mraggitt9g    & Morgan Raggitt   & 11/16/1992 & mraggitt9g@home.pl                 & NA & 99508 & 11/12/2021 & music \\\\\n\t10 & vshallcrass3p & Vally Shallcrass & 9/26/2002  & vshallcrass3p@pagesperso-orange.fr & NA & 99419 &            & music \\\\\n\\end{tabular}\n",
            "text/plain": [
              "   username      full_name        birthdate  email                             \n",
              "1  lleckeyb6     Lynne Leckey     4/19/1998  lleckeyb6@tripadvisor.com         \n",
              "2  spharoaha2    Staci Pharoah    9/2/1985   spharoaha2@sfgate.com             \n",
              "3  dpagettqf     Des Pagett       4/1/1992   dpagettqf@360.cn                  \n",
              "4  cbraderkb     Cody Brader                 cbraderkb@lulu.com                \n",
              "5  djagerdv      Deeyn Jager                 djagerdv@posterous.com            \n",
              "6  cduftondy     Celisse Dufton   8/24/1995  cduftondy@ox.ac.uk                \n",
              "7  dbartalin77   Desiree Bartalin 8/23/1993  dbartalin77@usda.gov              \n",
              "8  grivardmp     Gwen Rivard      9/12/1982  grivardmp@google.com.hk           \n",
              "9  mraggitt9g    Morgan Raggitt   11/16/1992 mraggitt9g@home.pl                \n",
              "10 vshallcrass3p Vally Shallcrass 9/26/2002  vshallcrass3p@pagesperso-orange.fr\n",
              "   continent followers last_login interests\n",
              "1  SA        99977     3/14/2021  sports   \n",
              "2  NA        99905     10/26/2023 sports   \n",
              "3  NA        99854                music    \n",
              "4  AF        99747     6/19/2021  music    \n",
              "5  AF        99731     4/7/2022   travel   \n",
              "6  OC        99707     9/26/2021  sports   \n",
              "7  AF        99618     5/30/2022  music    \n",
              "8  OC        99526     4/4/2020   music    \n",
              "9  NA        99508     11/12/2021 music    \n",
              "10 NA        99419                music    "
            ]
          },
          "metadata": {}
        }
      ]
    },
    {
      "cell_type": "code",
      "source": [
        "#4:\n",
        "df2 |>\n",
        "  count(continent, .drop = FALSE)"
      ],
      "metadata": {
        "colab": {
          "base_uri": "https://localhost:8080/",
          "height": 314
        },
        "id": "wgQTDZzd3VEu",
        "outputId": "691d5b99-ef56-456d-94b6-93e0ab39e422"
      },
      "execution_count": 106,
      "outputs": [
        {
          "output_type": "display_data",
          "data": {
            "text/html": [
              "<table class=\"dataframe\">\n",
              "<caption>A data.frame: 7 × 2</caption>\n",
              "<thead>\n",
              "\t<tr><th scope=col>continent</th><th scope=col>n</th></tr>\n",
              "\t<tr><th scope=col>&lt;chr&gt;</th><th scope=col>&lt;int&gt;</th></tr>\n",
              "</thead>\n",
              "<tbody>\n",
              "\t<tr><td>AF</td><td>103</td></tr>\n",
              "\t<tr><td>AN</td><td>  1</td></tr>\n",
              "\t<tr><td>AS</td><td>182</td></tr>\n",
              "\t<tr><td>EU</td><td>127</td></tr>\n",
              "\t<tr><td>OC</td><td>148</td></tr>\n",
              "\t<tr><td>SA</td><td> 92</td></tr>\n",
              "\t<tr><td>NA</td><td>347</td></tr>\n",
              "</tbody>\n",
              "</table>\n"
            ],
            "text/markdown": "\nA data.frame: 7 × 2\n\n| continent &lt;chr&gt; | n &lt;int&gt; |\n|---|---|\n| AF | 103 |\n| AN |   1 |\n| AS | 182 |\n| EU | 127 |\n| OC | 148 |\n| SA |  92 |\n| NA | 347 |\n\n",
            "text/latex": "A data.frame: 7 × 2\n\\begin{tabular}{ll}\n continent & n\\\\\n <chr> & <int>\\\\\n\\hline\n\t AF & 103\\\\\n\t AN &   1\\\\\n\t AS & 182\\\\\n\t EU & 127\\\\\n\t OC & 148\\\\\n\t SA &  92\\\\\n\t NA & 347\\\\\n\\end{tabular}\n",
            "text/plain": [
              "  continent n  \n",
              "1 AF        103\n",
              "2 AN          1\n",
              "3 AS        182\n",
              "4 EU        127\n",
              "5 OC        148\n",
              "6 SA         92\n",
              "7 NA        347"
            ]
          },
          "metadata": {}
        }
      ]
    }
  ]
}