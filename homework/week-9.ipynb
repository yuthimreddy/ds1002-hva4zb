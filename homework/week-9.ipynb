{
  "nbformat": 4,
  "nbformat_minor": 0,
  "metadata": {
    "colab": {
      "provenance": [],
      "include_colab_link": true
    },
    "kernelspec": {
      "name": "python3",
      "display_name": "Python 3"
    },
    "language_info": {
      "name": "python"
    }
  },
  "cells": [
    {
      "cell_type": "markdown",
      "metadata": {
        "id": "view-in-github",
        "colab_type": "text"
      },
      "source": [
        "<a href=\"https://colab.research.google.com/github/yuthimreddy/ds1002-hva4zb/blob/main/homework/week-9.ipynb\" target=\"_parent\"><img src=\"https://colab.research.google.com/assets/colab-badge.svg\" alt=\"Open In Colab\"/></a>"
      ]
    },
    {
      "cell_type": "markdown",
      "source": [
        "# Homework - Week 9\n",
        "\n",
        "Complete the following blocks as specified in the directions. Run each cell to return the desired output. Save your notebook back to your GitHub repository and submit the GitHub URL to your notebook for review."
      ],
      "metadata": {
        "id": "phbaQTT5gy8A"
      }
    },
    {
      "cell_type": "markdown",
      "source": [
        "## Functions\n",
        "\n",
        "In the cell below define a function that takes one parameter (in the form of a list) called `names` and returns a simple greeting for each name, such as\n",
        "\n",
        "    \"Hello Natasha, it's so nice to meet you\"\n",
        "    \"Hello Sid, it's so nice to meet you\"\n",
        "\n",
        "Define the function and run it, and in another cell below call the function populated with a var of a list of names."
      ],
      "metadata": {
        "id": "38Pg39pMrDua"
      }
    },
    {
      "cell_type": "code",
      "source": [
        "#\n",
        "def greet_people(names):\n",
        "  greeting = \"Hello \"\n",
        "  greeting2 = \", it's so nice to meet you\"\n",
        "  for name in names:\n",
        "    print(greeting + name + greeting2)"
      ],
      "metadata": {
        "id": "kdFLCHtOg53p"
      },
      "execution_count": 52,
      "outputs": []
    },
    {
      "cell_type": "code",
      "source": [
        "names = [\"Natasha\", \"Sid\"]\n",
        "greet_people(names)"
      ],
      "metadata": {
        "colab": {
          "base_uri": "https://localhost:8080/"
        },
        "id": "bSlE6K7-coT_",
        "outputId": "2744dada-e36c-4190-ed8d-8cf94704b844"
      },
      "execution_count": 54,
      "outputs": [
        {
          "output_type": "stream",
          "name": "stdout",
          "text": [
            "Hello Natasha, it's so nice to meet you\n",
            "Hello Sid, it's so nice to meet you\n"
          ]
        }
      ]
    },
    {
      "cell_type": "markdown",
      "source": [
        "Using the following list, pass it into a function you define that will evaluate the list and return a count of how many items is in it. Be creative.\n",
        "\n",
        "```\n",
        "mylist = [\"Toronto\",\"Buffalo\",\"Syracuse\",\"Albany\",\"Schenectady\",\"Brooklyn\",\"Rome\",\"Ithaca\"]\n",
        "```"
      ],
      "metadata": {
        "id": "mXqNACpkrdUZ"
      }
    },
    {
      "cell_type": "code",
      "source": [
        "cities = [\"Toronto\",\"Buffalo\",\"Syracuse\",\"Albany\",\"Schenectady\",\"Brooklyn\",\"Rome\",\"Ithaca\"]\n",
        "def total_amount(cities):\n",
        "  for city in cities:\n",
        "    return(len(cities))\n",
        "\n",
        "total_amount(cities)"
      ],
      "metadata": {
        "colab": {
          "base_uri": "https://localhost:8080/"
        },
        "id": "nbMAjbNVgeJ0",
        "outputId": "0184aa6b-4031-4fae-e6d6-0b59260b95ce"
      },
      "execution_count": 64,
      "outputs": [
        {
          "output_type": "execute_result",
          "data": {
            "text/plain": [
              "8"
            ]
          },
          "metadata": {},
          "execution_count": 64
        }
      ]
    },
    {
      "cell_type": "markdown",
      "source": [
        "## Input Validation\n",
        "\n",
        "Write a function below that defines two input parameters as `bool` and returns a `bool`.\n",
        "In the cell below that, populate two variables with two different bools (True and False)\n",
        "and pass them into a call of your function."
      ],
      "metadata": {
        "id": "YU7FXSCXsFab"
      }
    },
    {
      "cell_type": "code",
      "source": [
        "#\n",
        "def bool_function(x, y):\n",
        "  return bool()\n",
        "\n",
        "bool1 = True\n",
        "bool2 = False\n",
        "\n",
        "bool_function(bool1, bool2)"
      ],
      "metadata": {
        "id": "DGMJZjlysfHU",
        "colab": {
          "base_uri": "https://localhost:8080/"
        },
        "outputId": "7f1e4fee-1dfb-46f7-8765-e002fd5dab96"
      },
      "execution_count": 31,
      "outputs": [
        {
          "output_type": "execute_result",
          "data": {
            "text/plain": [
              "False"
            ]
          },
          "metadata": {},
          "execution_count": 31
        }
      ]
    },
    {
      "cell_type": "markdown",
      "source": [
        "## Global Variables\n",
        "\n",
        "Define a global variable and populate it with a data type (int, str, bool, float, etc.)"
      ],
      "metadata": {
        "id": "xXZTr5fdsd5M"
      }
    },
    {
      "cell_type": "code",
      "source": [
        "#\n",
        "x = 10\n",
        "x"
      ],
      "metadata": {
        "id": "HN8CFLVRs6_L",
        "colab": {
          "base_uri": "https://localhost:8080/"
        },
        "outputId": "2578c03d-ae7a-43ca-b963-f03ccf5d9445"
      },
      "execution_count": 16,
      "outputs": [
        {
          "output_type": "execute_result",
          "data": {
            "text/plain": [
              "10"
            ]
          },
          "metadata": {},
          "execution_count": 16
        }
      ]
    },
    {
      "cell_type": "markdown",
      "source": [
        "Now create a function that prints out the global variable. Call the function and display the value of the var."
      ],
      "metadata": {
        "id": "G1Auc6l1s8F6"
      }
    },
    {
      "cell_type": "code",
      "source": [
        "#\n",
        "def printing_global():\n",
        "  print(x)\n",
        "\n",
        "printing_global()"
      ],
      "metadata": {
        "id": "Q6O0Ep_wtBWJ",
        "colab": {
          "base_uri": "https://localhost:8080/"
        },
        "outputId": "1a7fba63-ecba-4828-b393-de7515180b17"
      },
      "execution_count": 19,
      "outputs": [
        {
          "output_type": "stream",
          "name": "stdout",
          "text": [
            "10\n"
          ]
        }
      ]
    },
    {
      "cell_type": "markdown",
      "source": [
        "Now create a function that creates its own global var and populates it.\n",
        "Call the function and then print out the global var from outside of the function."
      ],
      "metadata": {
        "id": "IN2TRQI8tCC4"
      }
    },
    {
      "cell_type": "code",
      "source": [
        "#\n",
        "def create_a_global_var():\n",
        "  global y\n",
        "  y = 20\n",
        "\n",
        "create_a_global_var()\n",
        "print(y)"
      ],
      "metadata": {
        "id": "Oz4rnmfTtKen",
        "colab": {
          "base_uri": "https://localhost:8080/"
        },
        "outputId": "913696de-a715-4ded-b351-4eb82dce15a9"
      },
      "execution_count": 21,
      "outputs": [
        {
          "output_type": "stream",
          "name": "stdout",
          "text": [
            "20\n"
          ]
        }
      ]
    },
    {
      "cell_type": "markdown",
      "source": [
        "Finally, write a function that updates the value of the global var you defined 3 cells above.\n",
        "\n",
        "1. Within the function, print out the global var you defined 3 cells above.\n",
        "2. Update the global var to have a new value.\n",
        "3. Within the function, print the new value of the global var.\n",
        "\n",
        "Call the function and once more print out the value of the global var from outside of the function."
      ],
      "metadata": {
        "id": "jv0dtym0tLZn"
      }
    },
    {
      "cell_type": "code",
      "source": [
        "#\n",
        "x = 10\n",
        "def updating_global():\n",
        "  global x\n",
        "  x = 15\n",
        "  print(x)\n",
        "\n",
        "updating_global()"
      ],
      "metadata": {
        "id": "pnX-hfKouLcG",
        "colab": {
          "base_uri": "https://localhost:8080/"
        },
        "outputId": "9ec1228e-5d0e-468c-8d57-5ff4a27d8f61"
      },
      "execution_count": 65,
      "outputs": [
        {
          "output_type": "stream",
          "name": "stdout",
          "text": [
            "15\n"
          ]
        }
      ]
    },
    {
      "cell_type": "code",
      "source": [
        "updating_global()"
      ],
      "metadata": {
        "id": "O8SiNfz0hl_0",
        "outputId": "6a136d5f-4619-42b5-9d46-ac145ab66bee",
        "colab": {
          "base_uri": "https://localhost:8080/"
        }
      },
      "execution_count": 66,
      "outputs": [
        {
          "output_type": "stream",
          "name": "stdout",
          "text": [
            "15\n"
          ]
        }
      ]
    }
  ]
}