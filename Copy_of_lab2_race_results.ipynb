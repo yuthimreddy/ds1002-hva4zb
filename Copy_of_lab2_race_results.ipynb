{
  "nbformat": 4,
  "nbformat_minor": 0,
  "metadata": {
    "colab": {
      "provenance": [],
      "include_colab_link": true
    },
    "kernelspec": {
      "name": "ir",
      "display_name": "R"
    },
    "language_info": {
      "name": "R"
    }
  },
  "cells": [
    {
      "cell_type": "markdown",
      "metadata": {
        "id": "view-in-github",
        "colab_type": "text"
      },
      "source": [
        "<a href=\"https://colab.research.google.com/github/yuthimreddy/ds1002-hva4zb/blob/main/Copy_of_lab2_race_results.ipynb\" target=\"_parent\"><img src=\"https://colab.research.google.com/assets/colab-badge.svg\" alt=\"Open In Colab\"/></a>"
      ]
    },
    {
      "cell_type": "markdown",
      "source": [
        "# DS1002 Lab 2: Determine Race Results with R\n",
        "\n",
        "In this lab you will work with a dataset, writing R to generate the deliverables specified in the cells below.\n",
        "\n",
        "The dataset for this lab is made up of fictitious results from a road race. Runner information and results is provided in the data.\n",
        "\n",
        "Answer the questions below with the appropriate R code. Point assignments are indicated for each section. There are 10 total points possible for this lab.\n",
        "\n",
        "Useful reference material (check all R modules within the Canvas site for more help)\n",
        "- [R Reference Material](https://canvas.its.virginia.edu/courses/78571/modules#module_219810).\n",
        "- [Plots Samples](https://colab.research.google.com/github/nmagee/ds1002/blob/main/notebooks/25-plots-in-r.ipynb)"
      ],
      "metadata": {
        "id": "2yEePrJ-1G1Z"
      }
    },
    {
      "cell_type": "markdown",
      "source": [
        "## Group Submissions\n",
        "\n",
        "If you are working in a group to complete this lab, you may have no more than 3 members to a group. Group members should be indicated in the cell below -- list both names and UVA computing IDs.\n",
        "\n",
        "Each student should then submit **the same URL** for the lab in Canvas. (If a group has Member1, Member2, and Member3, only one member needs to save the completed work back to GitHub and all members should submit that URL for grading.)"
      ],
      "metadata": {
        "id": "acXFkytd2PWS"
      }
    },
    {
      "cell_type": "code",
      "source": [
        "# List group members (if applicable). Identify names and computing IDs\n",
        "#\n",
        "# Name                    Computing ID"
      ],
      "metadata": {
        "id": "4N8_o3tG232h"
      },
      "execution_count": null,
      "outputs": []
    },
    {
      "cell_type": "markdown",
      "source": [
        "## 1. Load Libraries & Data (1 pt)\n",
        "\n",
        "https://raw.githubusercontent.com/nmagee/ds1002/main/data/road-race.csv\n",
        "\n",
        "Import any necessary libraries and load the remote CSV file below into a data frame."
      ],
      "metadata": {
        "id": "w0VxTDNf1k2O"
      }
    },
    {
      "cell_type": "code",
      "execution_count": 138,
      "metadata": {
        "id": "I0B9chFD1GR0",
        "colab": {
          "base_uri": "https://localhost:8080/"
        },
        "outputId": "7bc325cf-aa7b-4c39-ff24-5dad287dcf9b"
      },
      "outputs": [
        {
          "output_type": "stream",
          "name": "stderr",
          "text": [
            "Installing package into ‘/usr/local/lib/R/site-library’\n",
            "(as ‘lib’ is unspecified)\n",
            "\n"
          ]
        }
      ],
      "source": [
        "#\n",
        "install.packages(\"tidyverse\")\n",
        "library(tidyverse)"
      ]
    },
    {
      "cell_type": "code",
      "source": [
        "race_results <- read.csv(\"https://raw.githubusercontent.com/nmagee/ds1002/main/data/road-race.csv\")"
      ],
      "metadata": {
        "id": "bSuBtCzUqe9U"
      },
      "execution_count": 139,
      "outputs": []
    },
    {
      "cell_type": "code",
      "source": [
        "head(race_results, 1)"
      ],
      "metadata": {
        "id": "DhC_Iriv7Gry",
        "colab": {
          "base_uri": "https://localhost:8080/",
          "height": 128
        },
        "outputId": "05070939-2848-4996-b192-9df51f6cbc1f"
      },
      "execution_count": 140,
      "outputs": [
        {
          "output_type": "display_data",
          "data": {
            "text/html": [
              "<table class=\"dataframe\">\n",
              "<caption>A data.frame: 1 × 5</caption>\n",
              "<thead>\n",
              "\t<tr><th></th><th scope=col>runner_bib</th><th scope=col>runner_name</th><th scope=col>runner_age</th><th scope=col>runner_gender</th><th scope=col>finish_time</th></tr>\n",
              "\t<tr><th></th><th scope=col>&lt;int&gt;</th><th scope=col>&lt;chr&gt;</th><th scope=col>&lt;int&gt;</th><th scope=col>&lt;chr&gt;</th><th scope=col>&lt;chr&gt;</th></tr>\n",
              "</thead>\n",
              "<tbody>\n",
              "\t<tr><th scope=row>1</th><td>1</td><td>Loydie Lopes</td><td>17</td><td>Male</td><td>16:01</td></tr>\n",
              "</tbody>\n",
              "</table>\n"
            ],
            "text/markdown": "\nA data.frame: 1 × 5\n\n| <!--/--> | runner_bib &lt;int&gt; | runner_name &lt;chr&gt; | runner_age &lt;int&gt; | runner_gender &lt;chr&gt; | finish_time &lt;chr&gt; |\n|---|---|---|---|---|---|\n| 1 | 1 | Loydie Lopes | 17 | Male | 16:01 |\n\n",
            "text/latex": "A data.frame: 1 × 5\n\\begin{tabular}{r|lllll}\n  & runner\\_bib & runner\\_name & runner\\_age & runner\\_gender & finish\\_time\\\\\n  & <int> & <chr> & <int> & <chr> & <chr>\\\\\n\\hline\n\t1 & 1 & Loydie Lopes & 17 & Male & 16:01\\\\\n\\end{tabular}\n",
            "text/plain": [
              "  runner_bib runner_name  runner_age runner_gender finish_time\n",
              "1 1          Loydie Lopes 17         Male          16:01      "
            ]
          },
          "metadata": {}
        }
      ]
    },
    {
      "cell_type": "markdown",
      "source": [
        "## 2. Get Summary Data (1 pt)"
      ],
      "metadata": {
        "id": "H389W9dkobGI"
      }
    },
    {
      "cell_type": "markdown",
      "source": [
        "In code, display how many rows and columns are in the raw dataset."
      ],
      "metadata": {
        "id": "KA0wbjmE-4Q9"
      }
    },
    {
      "cell_type": "code",
      "source": [
        "#\n",
        "str(race_results)"
      ],
      "metadata": {
        "id": "XhULtu7qox-p",
        "colab": {
          "base_uri": "https://localhost:8080/"
        },
        "outputId": "fb09d554-e7b1-440b-c8e9-c307d42cc498"
      },
      "execution_count": 141,
      "outputs": [
        {
          "output_type": "stream",
          "name": "stdout",
          "text": [
            "'data.frame':\t764 obs. of  5 variables:\n",
            " $ runner_bib   : int  1 2 3 4 5 6 7 8 9 10 ...\n",
            " $ runner_name  : chr  \"Loydie Lopes\" \"Lorens Crispe\" \"Shirline Hasser\" \"Alleyn Hartshorn\" ...\n",
            " $ runner_age   : int  17 33 22 39 50 44 51 44 30 60 ...\n",
            " $ runner_gender: chr  \"Male\" \"Male\" \"Female\" \"Male\" ...\n",
            " $ finish_time  : chr  \"16:01\" \"15:40\" \"14:20\" \"17:06\" ...\n"
          ]
        }
      ]
    },
    {
      "cell_type": "markdown",
      "source": [
        "## 3. Clean and Organize the Data (2 pts)\n",
        "\n",
        "Check for data quality.\n",
        "\n",
        "- Resolve any duplicate rows.\n",
        "- If a runner does not have a finish time, they are DNF and should not be counted in the dataset.\n",
        "\n"
      ],
      "metadata": {
        "id": "abshX7QeooAs"
      }
    },
    {
      "cell_type": "code",
      "source": [
        "#Removing duplicates\n",
        "race_results2 <- race_results[!duplicated(race_results), ]\n",
        "race_results2"
      ],
      "metadata": {
        "id": "Aq3J7yD82uwW"
      },
      "execution_count": null,
      "outputs": []
    },
    {
      "cell_type": "code",
      "source": [
        "race_results3 <- na.omit(race_results2)\n",
        "sum(is.na(race_results3))"
      ],
      "metadata": {
        "id": "et27Mt-bsRrr",
        "colab": {
          "base_uri": "https://localhost:8080/",
          "height": 34
        },
        "outputId": "f7b16d39-0cb8-4cf6-eac3-5edc5e9731d7"
      },
      "execution_count": 143,
      "outputs": [
        {
          "output_type": "display_data",
          "data": {
            "text/html": [
              "0"
            ],
            "text/markdown": "0",
            "text/latex": "0",
            "text/plain": [
              "[1] 0"
            ]
          },
          "metadata": {}
        }
      ]
    },
    {
      "cell_type": "code",
      "source": [
        "#Changing missing values to being explicitly missing:\n",
        "unique(race_results3$finish_time)"
      ],
      "metadata": {
        "id": "Q-6OUlvwpzMD"
      },
      "execution_count": null,
      "outputs": []
    },
    {
      "cell_type": "code",
      "source": [
        "Final_race_results4 <- race_results3 %>%\n",
        "  select(runner_bib, runner_name, runner_age, runner_gender, finish_time) %>%\n",
        "  mutate(finsh_time = na_if(finish_time, ''))"
      ],
      "metadata": {
        "id": "8u2krdU5uLL4"
      },
      "execution_count": 145,
      "outputs": []
    },
    {
      "cell_type": "code",
      "source": [
        "sum(is.na(Final_race_results4))\n",
        "#There are four racers with no finish times recorded, and will not be counted\n",
        "FINAL_RaceResults <- na.omit(Final_race_results4)"
      ],
      "metadata": {
        "colab": {
          "base_uri": "https://localhost:8080/",
          "height": 34
        },
        "id": "H1tyLlsXuXKT",
        "outputId": "14d43bb1-a60b-4720-9299-792af095152b"
      },
      "execution_count": 146,
      "outputs": [
        {
          "output_type": "display_data",
          "data": {
            "text/html": [
              "46"
            ],
            "text/markdown": "46",
            "text/latex": "46",
            "text/plain": [
              "[1] 46"
            ]
          },
          "metadata": {}
        }
      ]
    },
    {
      "cell_type": "markdown",
      "source": [
        "Now display the first 10 rows of the cleaned dataset."
      ],
      "metadata": {
        "id": "Ccwu8bUx_Azj"
      }
    },
    {
      "cell_type": "code",
      "source": [
        "head(FINAL_RaceResults, 10)"
      ],
      "metadata": {
        "id": "1iVIskCs_Ewe"
      },
      "execution_count": null,
      "outputs": []
    },
    {
      "cell_type": "markdown",
      "source": [
        "## 4. Calculate Elapsed Time (3 pts)"
      ],
      "metadata": {
        "id": "3-4dd8nsr_zF"
      }
    },
    {
      "cell_type": "markdown",
      "source": [
        "Using R, add a new column named `[\"finish_minutes\"]` to the dataframe that calculates the number of minutes it took for the runner to complete the race. Ideally this is a column consisting of plain integers.\n",
        "\n",
        "The starting gun was fired at precisely 12:00pm that day.\n",
        "\n",
        "Note: This is calculated using a built-in function of R, `difftime()` which takes 3 parameters:\n",
        "\n",
        "- End time\n",
        "- Start time\n",
        "- Units\n",
        "\n",
        "The result is an output that figures the difference between the two: `3 days`, `14 years`, `112 mins`, etc.\n",
        "\n",
        "The syntax for that function is below. Take care to use the proper order of parameters. The `as.POSIXct` casting makes it possible to read a long datetime in the `YYYY-MM-DDTHH:MM` format, a common `datetime` value. The `format` parameter specifies the pattern you are trying to read.\n",
        "\n",
        "```\n",
        "df$new-column <- (difftime( as.POSIXct(df$end-column, format=\"%Y-%m-%dT%H:%M\"),\n",
        "                            as.POSIXct(df$start-column, format=\"%Y-%m-%dT%H:%M\"),\n",
        "                            units=\"min\"))\n",
        "```"
      ],
      "metadata": {
        "id": "HrGLlM83vH0c"
      }
    },
    {
      "cell_type": "code",
      "source": [
        "\n",
        "FINAL_RaceResults$endtime <- as.POSIXct(paste('2023-11-30T', FINAL_RaceResults$finish_time), format=\"%Y-%m-%dT%H:%M\")"
      ],
      "metadata": {
        "id": "uymy88FUhbFC"
      },
      "execution_count": 148,
      "outputs": []
    },
    {
      "cell_type": "code",
      "source": [
        "FINAL_RaceResults$finish_minutes <- as.integer(difftime(FINAL_RaceResults$endtime, as.POSIXct('2023-11-30 12:00'), units='min'))"
      ],
      "metadata": {
        "id": "AiepUDBrJ812"
      },
      "execution_count": 149,
      "outputs": []
    },
    {
      "cell_type": "code",
      "source": [
        "FINAL_RaceResults"
      ],
      "metadata": {
        "id": "2QhncQTpkJzZ"
      },
      "execution_count": null,
      "outputs": []
    },
    {
      "cell_type": "markdown",
      "source": [
        "## 5. Identify Winners by Gender (2 pts)"
      ],
      "metadata": {
        "id": "KKg8d9RDyeDa"
      }
    },
    {
      "cell_type": "markdown",
      "source": [
        "Based on the minutes it took each runner to complete the race, identify the top three places for each gender.\n",
        "\n",
        "There are several ways to do this, some of which require less code than others. You will only be graded for producing the correct output, not on how elegant/advanced your programming is."
      ],
      "metadata": {
        "id": "5kKBo3_sykGD"
      }
    },
    {
      "cell_type": "code",
      "source": [
        "sum(duplicated(FINAL_RaceResults))\n"
      ],
      "metadata": {
        "colab": {
          "base_uri": "https://localhost:8080/",
          "height": 34
        },
        "id": "0KaZWPNVRvy7",
        "outputId": "4403c88b-19c0-4ba7-caf3-e96b4de9321b"
      },
      "execution_count": 151,
      "outputs": [
        {
          "output_type": "display_data",
          "data": {
            "text/html": [
              "0"
            ],
            "text/markdown": "0",
            "text/latex": "0",
            "text/plain": [
              "[1] 0"
            ]
          },
          "metadata": {}
        }
      ]
    },
    {
      "cell_type": "code",
      "source": [
        "F_RaceResults <- FINAL_RaceResults[!duplicated(FINAL_RaceResults), ]"
      ],
      "metadata": {
        "id": "ncnCcbDIR39_"
      },
      "execution_count": 152,
      "outputs": []
    },
    {
      "cell_type": "code",
      "source": [
        "sum(duplicated(F_RaceResults))"
      ],
      "metadata": {
        "colab": {
          "base_uri": "https://localhost:8080/",
          "height": 34
        },
        "id": "66hIgEn7R_iP",
        "outputId": "71d3ac07-1b1c-45eb-d055-8f08db1edad0"
      },
      "execution_count": 153,
      "outputs": [
        {
          "output_type": "display_data",
          "data": {
            "text/html": [
              "0"
            ],
            "text/markdown": "0",
            "text/latex": "0",
            "text/plain": [
              "[1] 0"
            ]
          },
          "metadata": {}
        }
      ]
    },
    {
      "cell_type": "code",
      "source": [
        "F_RaceResults"
      ],
      "metadata": {
        "colab": {
          "base_uri": "https://localhost:8080/",
          "height": 1000
        },
        "id": "EcBZEPt-VUib",
        "outputId": "95407c23-e4dd-47e1-9dc2-d9cabcc5bdc0"
      },
      "execution_count": 154,
      "outputs": [
        {
          "output_type": "display_data",
          "data": {
            "text/html": [
              "<table class=\"dataframe\">\n",
              "<caption>A data.frame: 594 × 8</caption>\n",
              "<thead>\n",
              "\t<tr><th></th><th scope=col>runner_bib</th><th scope=col>runner_name</th><th scope=col>runner_age</th><th scope=col>runner_gender</th><th scope=col>finish_time</th><th scope=col>finsh_time</th><th scope=col>endtime</th><th scope=col>finish_minutes</th></tr>\n",
              "\t<tr><th></th><th scope=col>&lt;int&gt;</th><th scope=col>&lt;chr&gt;</th><th scope=col>&lt;int&gt;</th><th scope=col>&lt;chr&gt;</th><th scope=col>&lt;chr&gt;</th><th scope=col>&lt;chr&gt;</th><th scope=col>&lt;dttm&gt;</th><th scope=col>&lt;int&gt;</th></tr>\n",
              "</thead>\n",
              "<tbody>\n",
              "\t<tr><th scope=row>1</th><td> 1</td><td>Loydie Lopes          </td><td>17</td><td>Male   </td><td>16:01</td><td>16:01</td><td>2023-11-30 16:01:00</td><td>241</td></tr>\n",
              "\t<tr><th scope=row>2</th><td> 2</td><td>Lorens Crispe         </td><td>33</td><td>Male   </td><td>15:40</td><td>15:40</td><td>2023-11-30 15:40:00</td><td>220</td></tr>\n",
              "\t<tr><th scope=row>3</th><td> 3</td><td>Shirline Hasser       </td><td>22</td><td>Female </td><td>14:20</td><td>14:20</td><td>2023-11-30 14:20:00</td><td>140</td></tr>\n",
              "\t<tr><th scope=row>4</th><td> 4</td><td>Alleyn Hartshorn      </td><td>39</td><td>Male   </td><td>17:06</td><td>17:06</td><td>2023-11-30 17:06:00</td><td>306</td></tr>\n",
              "\t<tr><th scope=row>5</th><td> 5</td><td>Wang MacColl          </td><td>50</td><td>Male   </td><td>16:49</td><td>16:49</td><td>2023-11-30 16:49:00</td><td>289</td></tr>\n",
              "\t<tr><th scope=row>6</th><td> 6</td><td>Tonnie Tidder         </td><td>44</td><td>Male   </td><td>15:43</td><td>15:43</td><td>2023-11-30 15:43:00</td><td>223</td></tr>\n",
              "\t<tr><th scope=row>8</th><td> 8</td><td>Basil Moxsom          </td><td>44</td><td>Male   </td><td>15:16</td><td>15:16</td><td>2023-11-30 15:16:00</td><td>196</td></tr>\n",
              "\t<tr><th scope=row>9</th><td> 9</td><td>Lark Bragge           </td><td>30</td><td>Female </td><td>15:59</td><td>15:59</td><td>2023-11-30 15:59:00</td><td>239</td></tr>\n",
              "\t<tr><th scope=row>10</th><td>10</td><td>Kent Wakely           </td><td>60</td><td>Male   </td><td>14:29</td><td>14:29</td><td>2023-11-30 14:29:00</td><td>149</td></tr>\n",
              "\t<tr><th scope=row>11</th><td>11</td><td>Judye Hattrick        </td><td>17</td><td>Female </td><td>15:27</td><td>15:27</td><td>2023-11-30 15:27:00</td><td>207</td></tr>\n",
              "\t<tr><th scope=row>12</th><td>12</td><td>Amalea Laurand        </td><td>17</td><td>Agender</td><td>16:46</td><td>16:46</td><td>2023-11-30 16:46:00</td><td>286</td></tr>\n",
              "\t<tr><th scope=row>13</th><td>13</td><td>Christiana Winspeare  </td><td>52</td><td>Female </td><td>16:18</td><td>16:18</td><td>2023-11-30 16:18:00</td><td>258</td></tr>\n",
              "\t<tr><th scope=row>14</th><td>14</td><td>Trevar Pegrum         </td><td>31</td><td>Male   </td><td>16:05</td><td>16:05</td><td>2023-11-30 16:05:00</td><td>245</td></tr>\n",
              "\t<tr><th scope=row>15</th><td>15</td><td>Kearney Doumerc       </td><td>48</td><td>Male   </td><td>15:11</td><td>15:11</td><td>2023-11-30 15:11:00</td><td>191</td></tr>\n",
              "\t<tr><th scope=row>16</th><td>16</td><td>Casey Arthur          </td><td>54</td><td>Female </td><td>16:41</td><td>16:41</td><td>2023-11-30 16:41:00</td><td>281</td></tr>\n",
              "\t<tr><th scope=row>17</th><td>17</td><td>Antony Burnes         </td><td>19</td><td>Male   </td><td>15:58</td><td>15:58</td><td>2023-11-30 15:58:00</td><td>238</td></tr>\n",
              "\t<tr><th scope=row>18</th><td>18</td><td>Ike Ranson            </td><td>20</td><td>Agender</td><td>16:45</td><td>16:45</td><td>2023-11-30 16:45:00</td><td>285</td></tr>\n",
              "\t<tr><th scope=row>19</th><td>19</td><td>Niels Lynagh          </td><td>25</td><td>Male   </td><td>17:08</td><td>17:08</td><td>2023-11-30 17:08:00</td><td>308</td></tr>\n",
              "\t<tr><th scope=row>20</th><td>20</td><td>Stormy Gideon         </td><td>43</td><td>Female </td><td>16:51</td><td>16:51</td><td>2023-11-30 16:51:00</td><td>291</td></tr>\n",
              "\t<tr><th scope=row>21</th><td>21</td><td>Carmencita Petrishchev</td><td>20</td><td>Female </td><td>14:15</td><td>14:15</td><td>2023-11-30 14:15:00</td><td>135</td></tr>\n",
              "\t<tr><th scope=row>22</th><td>22</td><td>Cristina Brabbs       </td><td>60</td><td>Female </td><td>14:20</td><td>14:20</td><td>2023-11-30 14:20:00</td><td>140</td></tr>\n",
              "\t<tr><th scope=row>23</th><td>23</td><td>Cordy Jeannaud        </td><td>27</td><td>Female </td><td>14:45</td><td>14:45</td><td>2023-11-30 14:45:00</td><td>165</td></tr>\n",
              "\t<tr><th scope=row>24</th><td>24</td><td>Rubi Greeson          </td><td>39</td><td>Female </td><td>14:46</td><td>14:46</td><td>2023-11-30 14:46:00</td><td>166</td></tr>\n",
              "\t<tr><th scope=row>25</th><td>25</td><td>Mickie Drohun         </td><td>28</td><td>Female </td><td>16:20</td><td>16:20</td><td>2023-11-30 16:20:00</td><td>260</td></tr>\n",
              "\t<tr><th scope=row>26</th><td>26</td><td>Levon Cayette         </td><td>14</td><td>Male   </td><td>17:07</td><td>17:07</td><td>2023-11-30 17:07:00</td><td>307</td></tr>\n",
              "\t<tr><th scope=row>27</th><td>27</td><td>Georges Capoun        </td><td>38</td><td>Male   </td><td>14:47</td><td>14:47</td><td>2023-11-30 14:47:00</td><td>167</td></tr>\n",
              "\t<tr><th scope=row>28</th><td>28</td><td>Yance Ingreda         </td><td>39</td><td>Male   </td><td>15:40</td><td>15:40</td><td>2023-11-30 15:40:00</td><td>220</td></tr>\n",
              "\t<tr><th scope=row>29</th><td>29</td><td>Elfreda Dunmuir       </td><td>44</td><td>Female </td><td>15:04</td><td>15:04</td><td>2023-11-30 15:04:00</td><td>184</td></tr>\n",
              "\t<tr><th scope=row>30</th><td>30</td><td>Ivar Nutting          </td><td>33</td><td>Male   </td><td>15:00</td><td>15:00</td><td>2023-11-30 15:00:00</td><td>180</td></tr>\n",
              "\t<tr><th scope=row>31</th><td>31</td><td>Sibley Golton         </td><td>42</td><td>Female </td><td>14:54</td><td>14:54</td><td>2023-11-30 14:54:00</td><td>174</td></tr>\n",
              "\t<tr><th scope=row>⋮</th><td>⋮</td><td>⋮</td><td>⋮</td><td>⋮</td><td>⋮</td><td>⋮</td><td>⋮</td><td>⋮</td></tr>\n",
              "\t<tr><th scope=row>703</th><td>610</td><td>Noble Daunay        </td><td>26</td><td>Male  </td><td>15:44</td><td>15:44</td><td>2023-11-30 15:44:00</td><td>224</td></tr>\n",
              "\t<tr><th scope=row>704</th><td>611</td><td>Dianna Dunsire      </td><td>23</td><td>Female</td><td>15:56</td><td>15:56</td><td>2023-11-30 15:56:00</td><td>236</td></tr>\n",
              "\t<tr><th scope=row>705</th><td>612</td><td>Cordey Gibke        </td><td>27</td><td>Female</td><td>15:39</td><td>15:39</td><td>2023-11-30 15:39:00</td><td>219</td></tr>\n",
              "\t<tr><th scope=row>706</th><td>613</td><td>Ulysses Middell     </td><td>22</td><td>Male  </td><td>15:07</td><td>15:07</td><td>2023-11-30 15:07:00</td><td>187</td></tr>\n",
              "\t<tr><th scope=row>707</th><td>614</td><td>Edin Soloway        </td><td>46</td><td>Female</td><td>14:52</td><td>14:52</td><td>2023-11-30 14:52:00</td><td>172</td></tr>\n",
              "\t<tr><th scope=row>708</th><td>615</td><td>Seth Willishire     </td><td>41</td><td>Male  </td><td>15:08</td><td>15:08</td><td>2023-11-30 15:08:00</td><td>188</td></tr>\n",
              "\t<tr><th scope=row>709</th><td>616</td><td>Abelard Bole        </td><td>36</td><td>Male  </td><td>15:51</td><td>15:51</td><td>2023-11-30 15:51:00</td><td>231</td></tr>\n",
              "\t<tr><th scope=row>710</th><td>617</td><td>Mac Figiovanni      </td><td>60</td><td>Male  </td><td>14:43</td><td>14:43</td><td>2023-11-30 14:43:00</td><td>163</td></tr>\n",
              "\t<tr><th scope=row>711</th><td>618</td><td>Rafaelita Mates     </td><td>47</td><td>Female</td><td>16:32</td><td>16:32</td><td>2023-11-30 16:32:00</td><td>272</td></tr>\n",
              "\t<tr><th scope=row>712</th><td>619</td><td>Harper Ferrier      </td><td>47</td><td>Male  </td><td>16:20</td><td>16:20</td><td>2023-11-30 16:20:00</td><td>260</td></tr>\n",
              "\t<tr><th scope=row>713</th><td>620</td><td>Horten Rupp         </td><td>58</td><td>Male  </td><td>14:43</td><td>14:43</td><td>2023-11-30 14:43:00</td><td>163</td></tr>\n",
              "\t<tr><th scope=row>714</th><td>621</td><td>Gare Shacklady      </td><td>50</td><td>Male  </td><td>15:34</td><td>15:34</td><td>2023-11-30 15:34:00</td><td>214</td></tr>\n",
              "\t<tr><th scope=row>715</th><td>622</td><td>Jacquie MacRanald   </td><td>58</td><td>Female</td><td>16:59</td><td>16:59</td><td>2023-11-30 16:59:00</td><td>299</td></tr>\n",
              "\t<tr><th scope=row>716</th><td>623</td><td>Ingram Ivamy        </td><td>39</td><td>Male  </td><td>16:01</td><td>16:01</td><td>2023-11-30 16:01:00</td><td>241</td></tr>\n",
              "\t<tr><th scope=row>717</th><td>624</td><td>Mariejeanne Bernetti</td><td>49</td><td>Female</td><td>14:57</td><td>14:57</td><td>2023-11-30 14:57:00</td><td>177</td></tr>\n",
              "\t<tr><th scope=row>718</th><td>625</td><td>Merrill Dorre       </td><td>25</td><td>Female</td><td>16:26</td><td>16:26</td><td>2023-11-30 16:26:00</td><td>266</td></tr>\n",
              "\t<tr><th scope=row>719</th><td>626</td><td>Man Sancto          </td><td>23</td><td>Male  </td><td>14:51</td><td>14:51</td><td>2023-11-30 14:51:00</td><td>171</td></tr>\n",
              "\t<tr><th scope=row>720</th><td>627</td><td>Michelle Janus      </td><td>61</td><td>Female</td><td>15:16</td><td>15:16</td><td>2023-11-30 15:16:00</td><td>196</td></tr>\n",
              "\t<tr><th scope=row>721</th><td>628</td><td>Noble Gorling       </td><td>54</td><td>Male  </td><td>16:45</td><td>16:45</td><td>2023-11-30 16:45:00</td><td>285</td></tr>\n",
              "\t<tr><th scope=row>722</th><td>629</td><td>Abra Paulou         </td><td>15</td><td>Female</td><td>14:56</td><td>14:56</td><td>2023-11-30 14:56:00</td><td>176</td></tr>\n",
              "\t<tr><th scope=row>724</th><td>631</td><td>Agace Oats          </td><td>55</td><td>Female</td><td>16:14</td><td>16:14</td><td>2023-11-30 16:14:00</td><td>254</td></tr>\n",
              "\t<tr><th scope=row>725</th><td>632</td><td>Shaughn Sapauton    </td><td>33</td><td>Male  </td><td>15:58</td><td>15:58</td><td>2023-11-30 15:58:00</td><td>238</td></tr>\n",
              "\t<tr><th scope=row>726</th><td>633</td><td>Molli Stanley       </td><td>27</td><td>Female</td><td>15:20</td><td>15:20</td><td>2023-11-30 15:20:00</td><td>200</td></tr>\n",
              "\t<tr><th scope=row>727</th><td>634</td><td>Mile Hrishanok      </td><td>57</td><td>Male  </td><td>16:26</td><td>16:26</td><td>2023-11-30 16:26:00</td><td>266</td></tr>\n",
              "\t<tr><th scope=row>728</th><td>635</td><td>Dusty Truder        </td><td>40</td><td>Female</td><td>17:03</td><td>17:03</td><td>2023-11-30 17:03:00</td><td>303</td></tr>\n",
              "\t<tr><th scope=row>729</th><td>636</td><td>Fayette Pervoe      </td><td>18</td><td>Female</td><td>15:42</td><td>15:42</td><td>2023-11-30 15:42:00</td><td>222</td></tr>\n",
              "\t<tr><th scope=row>730</th><td>637</td><td>Allie Mingaye       </td><td>55</td><td>Male  </td><td>14:53</td><td>14:53</td><td>2023-11-30 14:53:00</td><td>173</td></tr>\n",
              "\t<tr><th scope=row>731</th><td>638</td><td>Noe Nayer           </td><td>38</td><td>Male  </td><td>15:08</td><td>15:08</td><td>2023-11-30 15:08:00</td><td>188</td></tr>\n",
              "\t<tr><th scope=row>732</th><td>639</td><td>Collen Lainton      </td><td>54</td><td>Female</td><td>17:07</td><td>17:07</td><td>2023-11-30 17:07:00</td><td>307</td></tr>\n",
              "\t<tr><th scope=row>733</th><td>640</td><td>Chickie Wildman     </td><td>52</td><td>Male  </td><td>16:22</td><td>16:22</td><td>2023-11-30 16:22:00</td><td>262</td></tr>\n",
              "</tbody>\n",
              "</table>\n"
            ],
            "text/markdown": "\nA data.frame: 594 × 8\n\n| <!--/--> | runner_bib &lt;int&gt; | runner_name &lt;chr&gt; | runner_age &lt;int&gt; | runner_gender &lt;chr&gt; | finish_time &lt;chr&gt; | finsh_time &lt;chr&gt; | endtime &lt;dttm&gt; | finish_minutes &lt;int&gt; |\n|---|---|---|---|---|---|---|---|---|\n| 1 |  1 | Loydie Lopes           | 17 | Male    | 16:01 | 16:01 | 2023-11-30 16:01:00 | 241 |\n| 2 |  2 | Lorens Crispe          | 33 | Male    | 15:40 | 15:40 | 2023-11-30 15:40:00 | 220 |\n| 3 |  3 | Shirline Hasser        | 22 | Female  | 14:20 | 14:20 | 2023-11-30 14:20:00 | 140 |\n| 4 |  4 | Alleyn Hartshorn       | 39 | Male    | 17:06 | 17:06 | 2023-11-30 17:06:00 | 306 |\n| 5 |  5 | Wang MacColl           | 50 | Male    | 16:49 | 16:49 | 2023-11-30 16:49:00 | 289 |\n| 6 |  6 | Tonnie Tidder          | 44 | Male    | 15:43 | 15:43 | 2023-11-30 15:43:00 | 223 |\n| 8 |  8 | Basil Moxsom           | 44 | Male    | 15:16 | 15:16 | 2023-11-30 15:16:00 | 196 |\n| 9 |  9 | Lark Bragge            | 30 | Female  | 15:59 | 15:59 | 2023-11-30 15:59:00 | 239 |\n| 10 | 10 | Kent Wakely            | 60 | Male    | 14:29 | 14:29 | 2023-11-30 14:29:00 | 149 |\n| 11 | 11 | Judye Hattrick         | 17 | Female  | 15:27 | 15:27 | 2023-11-30 15:27:00 | 207 |\n| 12 | 12 | Amalea Laurand         | 17 | Agender | 16:46 | 16:46 | 2023-11-30 16:46:00 | 286 |\n| 13 | 13 | Christiana Winspeare   | 52 | Female  | 16:18 | 16:18 | 2023-11-30 16:18:00 | 258 |\n| 14 | 14 | Trevar Pegrum          | 31 | Male    | 16:05 | 16:05 | 2023-11-30 16:05:00 | 245 |\n| 15 | 15 | Kearney Doumerc        | 48 | Male    | 15:11 | 15:11 | 2023-11-30 15:11:00 | 191 |\n| 16 | 16 | Casey Arthur           | 54 | Female  | 16:41 | 16:41 | 2023-11-30 16:41:00 | 281 |\n| 17 | 17 | Antony Burnes          | 19 | Male    | 15:58 | 15:58 | 2023-11-30 15:58:00 | 238 |\n| 18 | 18 | Ike Ranson             | 20 | Agender | 16:45 | 16:45 | 2023-11-30 16:45:00 | 285 |\n| 19 | 19 | Niels Lynagh           | 25 | Male    | 17:08 | 17:08 | 2023-11-30 17:08:00 | 308 |\n| 20 | 20 | Stormy Gideon          | 43 | Female  | 16:51 | 16:51 | 2023-11-30 16:51:00 | 291 |\n| 21 | 21 | Carmencita Petrishchev | 20 | Female  | 14:15 | 14:15 | 2023-11-30 14:15:00 | 135 |\n| 22 | 22 | Cristina Brabbs        | 60 | Female  | 14:20 | 14:20 | 2023-11-30 14:20:00 | 140 |\n| 23 | 23 | Cordy Jeannaud         | 27 | Female  | 14:45 | 14:45 | 2023-11-30 14:45:00 | 165 |\n| 24 | 24 | Rubi Greeson           | 39 | Female  | 14:46 | 14:46 | 2023-11-30 14:46:00 | 166 |\n| 25 | 25 | Mickie Drohun          | 28 | Female  | 16:20 | 16:20 | 2023-11-30 16:20:00 | 260 |\n| 26 | 26 | Levon Cayette          | 14 | Male    | 17:07 | 17:07 | 2023-11-30 17:07:00 | 307 |\n| 27 | 27 | Georges Capoun         | 38 | Male    | 14:47 | 14:47 | 2023-11-30 14:47:00 | 167 |\n| 28 | 28 | Yance Ingreda          | 39 | Male    | 15:40 | 15:40 | 2023-11-30 15:40:00 | 220 |\n| 29 | 29 | Elfreda Dunmuir        | 44 | Female  | 15:04 | 15:04 | 2023-11-30 15:04:00 | 184 |\n| 30 | 30 | Ivar Nutting           | 33 | Male    | 15:00 | 15:00 | 2023-11-30 15:00:00 | 180 |\n| 31 | 31 | Sibley Golton          | 42 | Female  | 14:54 | 14:54 | 2023-11-30 14:54:00 | 174 |\n| ⋮ | ⋮ | ⋮ | ⋮ | ⋮ | ⋮ | ⋮ | ⋮ | ⋮ |\n| 703 | 610 | Noble Daunay         | 26 | Male   | 15:44 | 15:44 | 2023-11-30 15:44:00 | 224 |\n| 704 | 611 | Dianna Dunsire       | 23 | Female | 15:56 | 15:56 | 2023-11-30 15:56:00 | 236 |\n| 705 | 612 | Cordey Gibke         | 27 | Female | 15:39 | 15:39 | 2023-11-30 15:39:00 | 219 |\n| 706 | 613 | Ulysses Middell      | 22 | Male   | 15:07 | 15:07 | 2023-11-30 15:07:00 | 187 |\n| 707 | 614 | Edin Soloway         | 46 | Female | 14:52 | 14:52 | 2023-11-30 14:52:00 | 172 |\n| 708 | 615 | Seth Willishire      | 41 | Male   | 15:08 | 15:08 | 2023-11-30 15:08:00 | 188 |\n| 709 | 616 | Abelard Bole         | 36 | Male   | 15:51 | 15:51 | 2023-11-30 15:51:00 | 231 |\n| 710 | 617 | Mac Figiovanni       | 60 | Male   | 14:43 | 14:43 | 2023-11-30 14:43:00 | 163 |\n| 711 | 618 | Rafaelita Mates      | 47 | Female | 16:32 | 16:32 | 2023-11-30 16:32:00 | 272 |\n| 712 | 619 | Harper Ferrier       | 47 | Male   | 16:20 | 16:20 | 2023-11-30 16:20:00 | 260 |\n| 713 | 620 | Horten Rupp          | 58 | Male   | 14:43 | 14:43 | 2023-11-30 14:43:00 | 163 |\n| 714 | 621 | Gare Shacklady       | 50 | Male   | 15:34 | 15:34 | 2023-11-30 15:34:00 | 214 |\n| 715 | 622 | Jacquie MacRanald    | 58 | Female | 16:59 | 16:59 | 2023-11-30 16:59:00 | 299 |\n| 716 | 623 | Ingram Ivamy         | 39 | Male   | 16:01 | 16:01 | 2023-11-30 16:01:00 | 241 |\n| 717 | 624 | Mariejeanne Bernetti | 49 | Female | 14:57 | 14:57 | 2023-11-30 14:57:00 | 177 |\n| 718 | 625 | Merrill Dorre        | 25 | Female | 16:26 | 16:26 | 2023-11-30 16:26:00 | 266 |\n| 719 | 626 | Man Sancto           | 23 | Male   | 14:51 | 14:51 | 2023-11-30 14:51:00 | 171 |\n| 720 | 627 | Michelle Janus       | 61 | Female | 15:16 | 15:16 | 2023-11-30 15:16:00 | 196 |\n| 721 | 628 | Noble Gorling        | 54 | Male   | 16:45 | 16:45 | 2023-11-30 16:45:00 | 285 |\n| 722 | 629 | Abra Paulou          | 15 | Female | 14:56 | 14:56 | 2023-11-30 14:56:00 | 176 |\n| 724 | 631 | Agace Oats           | 55 | Female | 16:14 | 16:14 | 2023-11-30 16:14:00 | 254 |\n| 725 | 632 | Shaughn Sapauton     | 33 | Male   | 15:58 | 15:58 | 2023-11-30 15:58:00 | 238 |\n| 726 | 633 | Molli Stanley        | 27 | Female | 15:20 | 15:20 | 2023-11-30 15:20:00 | 200 |\n| 727 | 634 | Mile Hrishanok       | 57 | Male   | 16:26 | 16:26 | 2023-11-30 16:26:00 | 266 |\n| 728 | 635 | Dusty Truder         | 40 | Female | 17:03 | 17:03 | 2023-11-30 17:03:00 | 303 |\n| 729 | 636 | Fayette Pervoe       | 18 | Female | 15:42 | 15:42 | 2023-11-30 15:42:00 | 222 |\n| 730 | 637 | Allie Mingaye        | 55 | Male   | 14:53 | 14:53 | 2023-11-30 14:53:00 | 173 |\n| 731 | 638 | Noe Nayer            | 38 | Male   | 15:08 | 15:08 | 2023-11-30 15:08:00 | 188 |\n| 732 | 639 | Collen Lainton       | 54 | Female | 17:07 | 17:07 | 2023-11-30 17:07:00 | 307 |\n| 733 | 640 | Chickie Wildman      | 52 | Male   | 16:22 | 16:22 | 2023-11-30 16:22:00 | 262 |\n\n",
            "text/latex": "A data.frame: 594 × 8\n\\begin{tabular}{r|llllllll}\n  & runner\\_bib & runner\\_name & runner\\_age & runner\\_gender & finish\\_time & finsh\\_time & endtime & finish\\_minutes\\\\\n  & <int> & <chr> & <int> & <chr> & <chr> & <chr> & <dttm> & <int>\\\\\n\\hline\n\t1 &  1 & Loydie Lopes           & 17 & Male    & 16:01 & 16:01 & 2023-11-30 16:01:00 & 241\\\\\n\t2 &  2 & Lorens Crispe          & 33 & Male    & 15:40 & 15:40 & 2023-11-30 15:40:00 & 220\\\\\n\t3 &  3 & Shirline Hasser        & 22 & Female  & 14:20 & 14:20 & 2023-11-30 14:20:00 & 140\\\\\n\t4 &  4 & Alleyn Hartshorn       & 39 & Male    & 17:06 & 17:06 & 2023-11-30 17:06:00 & 306\\\\\n\t5 &  5 & Wang MacColl           & 50 & Male    & 16:49 & 16:49 & 2023-11-30 16:49:00 & 289\\\\\n\t6 &  6 & Tonnie Tidder          & 44 & Male    & 15:43 & 15:43 & 2023-11-30 15:43:00 & 223\\\\\n\t8 &  8 & Basil Moxsom           & 44 & Male    & 15:16 & 15:16 & 2023-11-30 15:16:00 & 196\\\\\n\t9 &  9 & Lark Bragge            & 30 & Female  & 15:59 & 15:59 & 2023-11-30 15:59:00 & 239\\\\\n\t10 & 10 & Kent Wakely            & 60 & Male    & 14:29 & 14:29 & 2023-11-30 14:29:00 & 149\\\\\n\t11 & 11 & Judye Hattrick         & 17 & Female  & 15:27 & 15:27 & 2023-11-30 15:27:00 & 207\\\\\n\t12 & 12 & Amalea Laurand         & 17 & Agender & 16:46 & 16:46 & 2023-11-30 16:46:00 & 286\\\\\n\t13 & 13 & Christiana Winspeare   & 52 & Female  & 16:18 & 16:18 & 2023-11-30 16:18:00 & 258\\\\\n\t14 & 14 & Trevar Pegrum          & 31 & Male    & 16:05 & 16:05 & 2023-11-30 16:05:00 & 245\\\\\n\t15 & 15 & Kearney Doumerc        & 48 & Male    & 15:11 & 15:11 & 2023-11-30 15:11:00 & 191\\\\\n\t16 & 16 & Casey Arthur           & 54 & Female  & 16:41 & 16:41 & 2023-11-30 16:41:00 & 281\\\\\n\t17 & 17 & Antony Burnes          & 19 & Male    & 15:58 & 15:58 & 2023-11-30 15:58:00 & 238\\\\\n\t18 & 18 & Ike Ranson             & 20 & Agender & 16:45 & 16:45 & 2023-11-30 16:45:00 & 285\\\\\n\t19 & 19 & Niels Lynagh           & 25 & Male    & 17:08 & 17:08 & 2023-11-30 17:08:00 & 308\\\\\n\t20 & 20 & Stormy Gideon          & 43 & Female  & 16:51 & 16:51 & 2023-11-30 16:51:00 & 291\\\\\n\t21 & 21 & Carmencita Petrishchev & 20 & Female  & 14:15 & 14:15 & 2023-11-30 14:15:00 & 135\\\\\n\t22 & 22 & Cristina Brabbs        & 60 & Female  & 14:20 & 14:20 & 2023-11-30 14:20:00 & 140\\\\\n\t23 & 23 & Cordy Jeannaud         & 27 & Female  & 14:45 & 14:45 & 2023-11-30 14:45:00 & 165\\\\\n\t24 & 24 & Rubi Greeson           & 39 & Female  & 14:46 & 14:46 & 2023-11-30 14:46:00 & 166\\\\\n\t25 & 25 & Mickie Drohun          & 28 & Female  & 16:20 & 16:20 & 2023-11-30 16:20:00 & 260\\\\\n\t26 & 26 & Levon Cayette          & 14 & Male    & 17:07 & 17:07 & 2023-11-30 17:07:00 & 307\\\\\n\t27 & 27 & Georges Capoun         & 38 & Male    & 14:47 & 14:47 & 2023-11-30 14:47:00 & 167\\\\\n\t28 & 28 & Yance Ingreda          & 39 & Male    & 15:40 & 15:40 & 2023-11-30 15:40:00 & 220\\\\\n\t29 & 29 & Elfreda Dunmuir        & 44 & Female  & 15:04 & 15:04 & 2023-11-30 15:04:00 & 184\\\\\n\t30 & 30 & Ivar Nutting           & 33 & Male    & 15:00 & 15:00 & 2023-11-30 15:00:00 & 180\\\\\n\t31 & 31 & Sibley Golton          & 42 & Female  & 14:54 & 14:54 & 2023-11-30 14:54:00 & 174\\\\\n\t⋮ & ⋮ & ⋮ & ⋮ & ⋮ & ⋮ & ⋮ & ⋮ & ⋮\\\\\n\t703 & 610 & Noble Daunay         & 26 & Male   & 15:44 & 15:44 & 2023-11-30 15:44:00 & 224\\\\\n\t704 & 611 & Dianna Dunsire       & 23 & Female & 15:56 & 15:56 & 2023-11-30 15:56:00 & 236\\\\\n\t705 & 612 & Cordey Gibke         & 27 & Female & 15:39 & 15:39 & 2023-11-30 15:39:00 & 219\\\\\n\t706 & 613 & Ulysses Middell      & 22 & Male   & 15:07 & 15:07 & 2023-11-30 15:07:00 & 187\\\\\n\t707 & 614 & Edin Soloway         & 46 & Female & 14:52 & 14:52 & 2023-11-30 14:52:00 & 172\\\\\n\t708 & 615 & Seth Willishire      & 41 & Male   & 15:08 & 15:08 & 2023-11-30 15:08:00 & 188\\\\\n\t709 & 616 & Abelard Bole         & 36 & Male   & 15:51 & 15:51 & 2023-11-30 15:51:00 & 231\\\\\n\t710 & 617 & Mac Figiovanni       & 60 & Male   & 14:43 & 14:43 & 2023-11-30 14:43:00 & 163\\\\\n\t711 & 618 & Rafaelita Mates      & 47 & Female & 16:32 & 16:32 & 2023-11-30 16:32:00 & 272\\\\\n\t712 & 619 & Harper Ferrier       & 47 & Male   & 16:20 & 16:20 & 2023-11-30 16:20:00 & 260\\\\\n\t713 & 620 & Horten Rupp          & 58 & Male   & 14:43 & 14:43 & 2023-11-30 14:43:00 & 163\\\\\n\t714 & 621 & Gare Shacklady       & 50 & Male   & 15:34 & 15:34 & 2023-11-30 15:34:00 & 214\\\\\n\t715 & 622 & Jacquie MacRanald    & 58 & Female & 16:59 & 16:59 & 2023-11-30 16:59:00 & 299\\\\\n\t716 & 623 & Ingram Ivamy         & 39 & Male   & 16:01 & 16:01 & 2023-11-30 16:01:00 & 241\\\\\n\t717 & 624 & Mariejeanne Bernetti & 49 & Female & 14:57 & 14:57 & 2023-11-30 14:57:00 & 177\\\\\n\t718 & 625 & Merrill Dorre        & 25 & Female & 16:26 & 16:26 & 2023-11-30 16:26:00 & 266\\\\\n\t719 & 626 & Man Sancto           & 23 & Male   & 14:51 & 14:51 & 2023-11-30 14:51:00 & 171\\\\\n\t720 & 627 & Michelle Janus       & 61 & Female & 15:16 & 15:16 & 2023-11-30 15:16:00 & 196\\\\\n\t721 & 628 & Noble Gorling        & 54 & Male   & 16:45 & 16:45 & 2023-11-30 16:45:00 & 285\\\\\n\t722 & 629 & Abra Paulou          & 15 & Female & 14:56 & 14:56 & 2023-11-30 14:56:00 & 176\\\\\n\t724 & 631 & Agace Oats           & 55 & Female & 16:14 & 16:14 & 2023-11-30 16:14:00 & 254\\\\\n\t725 & 632 & Shaughn Sapauton     & 33 & Male   & 15:58 & 15:58 & 2023-11-30 15:58:00 & 238\\\\\n\t726 & 633 & Molli Stanley        & 27 & Female & 15:20 & 15:20 & 2023-11-30 15:20:00 & 200\\\\\n\t727 & 634 & Mile Hrishanok       & 57 & Male   & 16:26 & 16:26 & 2023-11-30 16:26:00 & 266\\\\\n\t728 & 635 & Dusty Truder         & 40 & Female & 17:03 & 17:03 & 2023-11-30 17:03:00 & 303\\\\\n\t729 & 636 & Fayette Pervoe       & 18 & Female & 15:42 & 15:42 & 2023-11-30 15:42:00 & 222\\\\\n\t730 & 637 & Allie Mingaye        & 55 & Male   & 14:53 & 14:53 & 2023-11-30 14:53:00 & 173\\\\\n\t731 & 638 & Noe Nayer            & 38 & Male   & 15:08 & 15:08 & 2023-11-30 15:08:00 & 188\\\\\n\t732 & 639 & Collen Lainton       & 54 & Female & 17:07 & 17:07 & 2023-11-30 17:07:00 & 307\\\\\n\t733 & 640 & Chickie Wildman      & 52 & Male   & 16:22 & 16:22 & 2023-11-30 16:22:00 & 262\\\\\n\\end{tabular}\n",
            "text/plain": [
              "    runner_bib runner_name            runner_age runner_gender finish_time\n",
              "1    1         Loydie Lopes           17         Male          16:01      \n",
              "2    2         Lorens Crispe          33         Male          15:40      \n",
              "3    3         Shirline Hasser        22         Female        14:20      \n",
              "4    4         Alleyn Hartshorn       39         Male          17:06      \n",
              "5    5         Wang MacColl           50         Male          16:49      \n",
              "6    6         Tonnie Tidder          44         Male          15:43      \n",
              "8    8         Basil Moxsom           44         Male          15:16      \n",
              "9    9         Lark Bragge            30         Female        15:59      \n",
              "10  10         Kent Wakely            60         Male          14:29      \n",
              "11  11         Judye Hattrick         17         Female        15:27      \n",
              "12  12         Amalea Laurand         17         Agender       16:46      \n",
              "13  13         Christiana Winspeare   52         Female        16:18      \n",
              "14  14         Trevar Pegrum          31         Male          16:05      \n",
              "15  15         Kearney Doumerc        48         Male          15:11      \n",
              "16  16         Casey Arthur           54         Female        16:41      \n",
              "17  17         Antony Burnes          19         Male          15:58      \n",
              "18  18         Ike Ranson             20         Agender       16:45      \n",
              "19  19         Niels Lynagh           25         Male          17:08      \n",
              "20  20         Stormy Gideon          43         Female        16:51      \n",
              "21  21         Carmencita Petrishchev 20         Female        14:15      \n",
              "22  22         Cristina Brabbs        60         Female        14:20      \n",
              "23  23         Cordy Jeannaud         27         Female        14:45      \n",
              "24  24         Rubi Greeson           39         Female        14:46      \n",
              "25  25         Mickie Drohun          28         Female        16:20      \n",
              "26  26         Levon Cayette          14         Male          17:07      \n",
              "27  27         Georges Capoun         38         Male          14:47      \n",
              "28  28         Yance Ingreda          39         Male          15:40      \n",
              "29  29         Elfreda Dunmuir        44         Female        15:04      \n",
              "30  30         Ivar Nutting           33         Male          15:00      \n",
              "31  31         Sibley Golton          42         Female        14:54      \n",
              "⋮   ⋮          ⋮                      ⋮          ⋮             ⋮          \n",
              "703 610        Noble Daunay           26         Male          15:44      \n",
              "704 611        Dianna Dunsire         23         Female        15:56      \n",
              "705 612        Cordey Gibke           27         Female        15:39      \n",
              "706 613        Ulysses Middell        22         Male          15:07      \n",
              "707 614        Edin Soloway           46         Female        14:52      \n",
              "708 615        Seth Willishire        41         Male          15:08      \n",
              "709 616        Abelard Bole           36         Male          15:51      \n",
              "710 617        Mac Figiovanni         60         Male          14:43      \n",
              "711 618        Rafaelita Mates        47         Female        16:32      \n",
              "712 619        Harper Ferrier         47         Male          16:20      \n",
              "713 620        Horten Rupp            58         Male          14:43      \n",
              "714 621        Gare Shacklady         50         Male          15:34      \n",
              "715 622        Jacquie MacRanald      58         Female        16:59      \n",
              "716 623        Ingram Ivamy           39         Male          16:01      \n",
              "717 624        Mariejeanne Bernetti   49         Female        14:57      \n",
              "718 625        Merrill Dorre          25         Female        16:26      \n",
              "719 626        Man Sancto             23         Male          14:51      \n",
              "720 627        Michelle Janus         61         Female        15:16      \n",
              "721 628        Noble Gorling          54         Male          16:45      \n",
              "722 629        Abra Paulou            15         Female        14:56      \n",
              "724 631        Agace Oats             55         Female        16:14      \n",
              "725 632        Shaughn Sapauton       33         Male          15:58      \n",
              "726 633        Molli Stanley          27         Female        15:20      \n",
              "727 634        Mile Hrishanok         57         Male          16:26      \n",
              "728 635        Dusty Truder           40         Female        17:03      \n",
              "729 636        Fayette Pervoe         18         Female        15:42      \n",
              "730 637        Allie Mingaye          55         Male          14:53      \n",
              "731 638        Noe Nayer              38         Male          15:08      \n",
              "732 639        Collen Lainton         54         Female        17:07      \n",
              "733 640        Chickie Wildman        52         Male          16:22      \n",
              "    finsh_time endtime             finish_minutes\n",
              "1   16:01      2023-11-30 16:01:00 241           \n",
              "2   15:40      2023-11-30 15:40:00 220           \n",
              "3   14:20      2023-11-30 14:20:00 140           \n",
              "4   17:06      2023-11-30 17:06:00 306           \n",
              "5   16:49      2023-11-30 16:49:00 289           \n",
              "6   15:43      2023-11-30 15:43:00 223           \n",
              "8   15:16      2023-11-30 15:16:00 196           \n",
              "9   15:59      2023-11-30 15:59:00 239           \n",
              "10  14:29      2023-11-30 14:29:00 149           \n",
              "11  15:27      2023-11-30 15:27:00 207           \n",
              "12  16:46      2023-11-30 16:46:00 286           \n",
              "13  16:18      2023-11-30 16:18:00 258           \n",
              "14  16:05      2023-11-30 16:05:00 245           \n",
              "15  15:11      2023-11-30 15:11:00 191           \n",
              "16  16:41      2023-11-30 16:41:00 281           \n",
              "17  15:58      2023-11-30 15:58:00 238           \n",
              "18  16:45      2023-11-30 16:45:00 285           \n",
              "19  17:08      2023-11-30 17:08:00 308           \n",
              "20  16:51      2023-11-30 16:51:00 291           \n",
              "21  14:15      2023-11-30 14:15:00 135           \n",
              "22  14:20      2023-11-30 14:20:00 140           \n",
              "23  14:45      2023-11-30 14:45:00 165           \n",
              "24  14:46      2023-11-30 14:46:00 166           \n",
              "25  16:20      2023-11-30 16:20:00 260           \n",
              "26  17:07      2023-11-30 17:07:00 307           \n",
              "27  14:47      2023-11-30 14:47:00 167           \n",
              "28  15:40      2023-11-30 15:40:00 220           \n",
              "29  15:04      2023-11-30 15:04:00 184           \n",
              "30  15:00      2023-11-30 15:00:00 180           \n",
              "31  14:54      2023-11-30 14:54:00 174           \n",
              "⋮   ⋮          ⋮                   ⋮             \n",
              "703 15:44      2023-11-30 15:44:00 224           \n",
              "704 15:56      2023-11-30 15:56:00 236           \n",
              "705 15:39      2023-11-30 15:39:00 219           \n",
              "706 15:07      2023-11-30 15:07:00 187           \n",
              "707 14:52      2023-11-30 14:52:00 172           \n",
              "708 15:08      2023-11-30 15:08:00 188           \n",
              "709 15:51      2023-11-30 15:51:00 231           \n",
              "710 14:43      2023-11-30 14:43:00 163           \n",
              "711 16:32      2023-11-30 16:32:00 272           \n",
              "712 16:20      2023-11-30 16:20:00 260           \n",
              "713 14:43      2023-11-30 14:43:00 163           \n",
              "714 15:34      2023-11-30 15:34:00 214           \n",
              "715 16:59      2023-11-30 16:59:00 299           \n",
              "716 16:01      2023-11-30 16:01:00 241           \n",
              "717 14:57      2023-11-30 14:57:00 177           \n",
              "718 16:26      2023-11-30 16:26:00 266           \n",
              "719 14:51      2023-11-30 14:51:00 171           \n",
              "720 15:16      2023-11-30 15:16:00 196           \n",
              "721 16:45      2023-11-30 16:45:00 285           \n",
              "722 14:56      2023-11-30 14:56:00 176           \n",
              "724 16:14      2023-11-30 16:14:00 254           \n",
              "725 15:58      2023-11-30 15:58:00 238           \n",
              "726 15:20      2023-11-30 15:20:00 200           \n",
              "727 16:26      2023-11-30 16:26:00 266           \n",
              "728 17:03      2023-11-30 17:03:00 303           \n",
              "729 15:42      2023-11-30 15:42:00 222           \n",
              "730 14:53      2023-11-30 14:53:00 173           \n",
              "731 15:08      2023-11-30 15:08:00 188           \n",
              "732 17:07      2023-11-30 17:07:00 307           \n",
              "733 16:22      2023-11-30 16:22:00 262           "
            ]
          },
          "metadata": {}
        }
      ]
    },
    {
      "cell_type": "code",
      "source": [
        "WomenResults <- F_RaceResults %>%\n",
        "  filter(runner_gender == \"Female\")%>%\n",
        "  select(runner_name, runner_gender, finish_minutes) %>%\n",
        "  arrange(finish_minutes)\n",
        "\n",
        "head(WomenResults, 3)"
      ],
      "metadata": {
        "colab": {
          "base_uri": "https://localhost:8080/",
          "height": 190
        },
        "id": "Dam7QnckS_Km",
        "outputId": "97208888-11a1-49a3-8649-af96552c5308"
      },
      "execution_count": 155,
      "outputs": [
        {
          "output_type": "display_data",
          "data": {
            "text/html": [
              "<table class=\"dataframe\">\n",
              "<caption>A data.frame: 3 × 3</caption>\n",
              "<thead>\n",
              "\t<tr><th></th><th scope=col>runner_name</th><th scope=col>runner_gender</th><th scope=col>finish_minutes</th></tr>\n",
              "\t<tr><th></th><th scope=col>&lt;chr&gt;</th><th scope=col>&lt;chr&gt;</th><th scope=col>&lt;int&gt;</th></tr>\n",
              "</thead>\n",
              "<tbody>\n",
              "\t<tr><th scope=row>1</th><td>Carmencita Petrishchev</td><td>Female</td><td>135</td></tr>\n",
              "\t<tr><th scope=row>2</th><td>Marylin Standering    </td><td>Female</td><td>135</td></tr>\n",
              "\t<tr><th scope=row>3</th><td>Melloney Fonteyne     </td><td>Female</td><td>135</td></tr>\n",
              "</tbody>\n",
              "</table>\n"
            ],
            "text/markdown": "\nA data.frame: 3 × 3\n\n| <!--/--> | runner_name &lt;chr&gt; | runner_gender &lt;chr&gt; | finish_minutes &lt;int&gt; |\n|---|---|---|---|\n| 1 | Carmencita Petrishchev | Female | 135 |\n| 2 | Marylin Standering     | Female | 135 |\n| 3 | Melloney Fonteyne      | Female | 135 |\n\n",
            "text/latex": "A data.frame: 3 × 3\n\\begin{tabular}{r|lll}\n  & runner\\_name & runner\\_gender & finish\\_minutes\\\\\n  & <chr> & <chr> & <int>\\\\\n\\hline\n\t1 & Carmencita Petrishchev & Female & 135\\\\\n\t2 & Marylin Standering     & Female & 135\\\\\n\t3 & Melloney Fonteyne      & Female & 135\\\\\n\\end{tabular}\n",
            "text/plain": [
              "  runner_name            runner_gender finish_minutes\n",
              "1 Carmencita Petrishchev Female        135           \n",
              "2 Marylin Standering     Female        135           \n",
              "3 Melloney Fonteyne      Female        135           "
            ]
          },
          "metadata": {}
        }
      ]
    },
    {
      "cell_type": "code",
      "source": [
        "MenResults <- F_RaceResults %>%\n",
        "  filter(runner_gender == \"Male\")%>%\n",
        "  select(runner_name, runner_gender, finish_minutes) %>%\n",
        "  arrange(finish_minutes)\n",
        "\n",
        "head(MenResults, 3)"
      ],
      "metadata": {
        "colab": {
          "base_uri": "https://localhost:8080/",
          "height": 190
        },
        "id": "EautRc6gNjdW",
        "outputId": "5e9a6cad-fced-4292-d557-a1233968dc44"
      },
      "execution_count": null,
      "outputs": [
        {
          "output_type": "display_data",
          "data": {
            "text/html": [
              "<table class=\"dataframe\">\n",
              "<caption>A data.frame: 3 × 3</caption>\n",
              "<thead>\n",
              "\t<tr><th></th><th scope=col>runner_name</th><th scope=col>runner_gender</th><th scope=col>finish_minutes</th></tr>\n",
              "\t<tr><th></th><th scope=col>&lt;chr&gt;</th><th scope=col>&lt;chr&gt;</th><th scope=col>&lt;int&gt;</th></tr>\n",
              "</thead>\n",
              "<tbody>\n",
              "\t<tr><th scope=row>1</th><td>Winn Froome     </td><td>Male</td><td>145</td></tr>\n",
              "\t<tr><th scope=row>2</th><td>Kent Wakely     </td><td>Male</td><td>149</td></tr>\n",
              "\t<tr><th scope=row>3</th><td>Gabbie Woollhead</td><td>Male</td><td>159</td></tr>\n",
              "</tbody>\n",
              "</table>\n"
            ],
            "text/markdown": "\nA data.frame: 3 × 3\n\n| <!--/--> | runner_name &lt;chr&gt; | runner_gender &lt;chr&gt; | finish_minutes &lt;int&gt; |\n|---|---|---|---|\n| 1 | Winn Froome      | Male | 145 |\n| 2 | Kent Wakely      | Male | 149 |\n| 3 | Gabbie Woollhead | Male | 159 |\n\n",
            "text/latex": "A data.frame: 3 × 3\n\\begin{tabular}{r|lll}\n  & runner\\_name & runner\\_gender & finish\\_minutes\\\\\n  & <chr> & <chr> & <int>\\\\\n\\hline\n\t1 & Winn Froome      & Male & 145\\\\\n\t2 & Kent Wakely      & Male & 149\\\\\n\t3 & Gabbie Woollhead & Male & 159\\\\\n\\end{tabular}\n",
            "text/plain": [
              "  runner_name      runner_gender finish_minutes\n",
              "1 Winn Froome      Male          145           \n",
              "2 Kent Wakely      Male          149           \n",
              "3 Gabbie Woollhead Male          159           "
            ]
          },
          "metadata": {}
        }
      ]
    },
    {
      "cell_type": "code",
      "source": [
        "AgenderResults <- F_RaceResults %>%\n",
        "  filter(runner_gender == \"Agender\")%>%\n",
        "  select(runner_name, runner_gender, finish_minutes) %>%\n",
        "  arrange(finish_minutes)\n",
        "\n",
        "head(AgenderResults, 3)"
      ],
      "metadata": {
        "colab": {
          "base_uri": "https://localhost:8080/",
          "height": 159
        },
        "id": "g9iM5KKPTWAs",
        "outputId": "d9dcf7c1-c11a-46c8-af5b-4fe92c9911c9"
      },
      "execution_count": null,
      "outputs": [
        {
          "output_type": "display_data",
          "data": {
            "text/html": [
              "<table class=\"dataframe\">\n",
              "<caption>A data.frame: 2 × 3</caption>\n",
              "<thead>\n",
              "\t<tr><th></th><th scope=col>runner_name</th><th scope=col>runner_gender</th><th scope=col>finish_minutes</th></tr>\n",
              "\t<tr><th></th><th scope=col>&lt;chr&gt;</th><th scope=col>&lt;chr&gt;</th><th scope=col>&lt;int&gt;</th></tr>\n",
              "</thead>\n",
              "<tbody>\n",
              "\t<tr><th scope=row>1</th><td>Ike Ranson    </td><td>Agender</td><td>285</td></tr>\n",
              "\t<tr><th scope=row>2</th><td>Amalea Laurand</td><td>Agender</td><td>286</td></tr>\n",
              "</tbody>\n",
              "</table>\n"
            ],
            "text/markdown": "\nA data.frame: 2 × 3\n\n| <!--/--> | runner_name &lt;chr&gt; | runner_gender &lt;chr&gt; | finish_minutes &lt;int&gt; |\n|---|---|---|---|\n| 1 | Ike Ranson     | Agender | 285 |\n| 2 | Amalea Laurand | Agender | 286 |\n\n",
            "text/latex": "A data.frame: 2 × 3\n\\begin{tabular}{r|lll}\n  & runner\\_name & runner\\_gender & finish\\_minutes\\\\\n  & <chr> & <chr> & <int>\\\\\n\\hline\n\t1 & Ike Ranson     & Agender & 285\\\\\n\t2 & Amalea Laurand & Agender & 286\\\\\n\\end{tabular}\n",
            "text/plain": [
              "  runner_name    runner_gender finish_minutes\n",
              "1 Ike Ranson     Agender       285           \n",
              "2 Amalea Laurand Agender       286           "
            ]
          },
          "metadata": {}
        }
      ]
    },
    {
      "cell_type": "markdown",
      "source": [
        "## 6. Plot the Data (3 pts)"
      ],
      "metadata": {
        "id": "2B9dxJbno0s0"
      }
    },
    {
      "cell_type": "markdown",
      "source": [
        "Finally, using `ggplot2` create two plots of the data -- density plots of race finishers.\n",
        "\n",
        "- In the first plot use `finish_minutes` as the x axis.\n",
        "- In the second plot use `runner_age` as the x axis.\n",
        "- Use `runner_gender` as the fill.\n",
        "- We suggest using a `geom_density(alpha=0.2)` or therabouts to see layers through one another.\n",
        "- Use the `gridExtra` library's `grid.arrange()` method to plot them both.\n",
        "\n",
        "You will note that since this is artificial data you will be able to see the gender layers clearly enough but they will not be statistically meaningful."
      ],
      "metadata": {
        "id": "LwMrL6-AplCH"
      }
    },
    {
      "cell_type": "code",
      "source": [
        "library(tidyverse)\n",
        "library(ggplot2)\n",
        "install.packages(\"gapminder\")\n",
        "library(gapminder)\n",
        "library()"
      ],
      "metadata": {
        "colab": {
          "base_uri": "https://localhost:8080/"
        },
        "id": "--zDZxO1-vCl",
        "outputId": "460012c5-d888-48b5-ad05-b331e72fe46e"
      },
      "execution_count": null,
      "outputs": [
        {
          "output_type": "stream",
          "name": "stderr",
          "text": [
            "Installing package into ‘/usr/local/lib/R/site-library’\n",
            "(as ‘lib’ is unspecified)\n",
            "\n"
          ]
        }
      ]
    },
    {
      "cell_type": "code",
      "source": [
        "library(ggplot2)\n",
        "install.packages(\"gridExtra\")"
      ],
      "metadata": {
        "colab": {
          "base_uri": "https://localhost:8080/"
        },
        "id": "_Bjo8giXU9RP",
        "outputId": "a7d236bf-cf97-4f50-deef-c59400c639c4"
      },
      "execution_count": null,
      "outputs": [
        {
          "output_type": "stream",
          "name": "stderr",
          "text": [
            "Installing package into ‘/usr/local/lib/R/site-library’\n",
            "(as ‘lib’ is unspecified)\n",
            "\n"
          ]
        }
      ]
    },
    {
      "cell_type": "code",
      "source": [
        "library(gridExtra)"
      ],
      "metadata": {
        "id": "fC9NLOsYVI6Q"
      },
      "execution_count": null,
      "outputs": []
    },
    {
      "cell_type": "code",
      "source": [
        "F_RaceResults"
      ],
      "metadata": {
        "id": "0cOiCmiOVdi3"
      },
      "execution_count": null,
      "outputs": []
    },
    {
      "cell_type": "code",
      "source": [
        "plot_finish_minutes <- ggplot(F_RaceResults, aes(x = finish_minutes, fill = runner_gender)) +\n",
        "  geom_density(alpha = 0.2) +\n",
        "  labs(title = \"Density Plot of Race Finishers by Finish Time (Minutes)\", x = \"Finish Time (Minutes)\", y = \"Density\") +\n",
        "  theme_minimal()\n"
      ],
      "metadata": {
        "id": "6uhUIjZAUbD8"
      },
      "execution_count": null,
      "outputs": []
    },
    {
      "cell_type": "code",
      "source": [
        "plot_runner_age <- ggplot(F_RaceResults, aes(x = runner_age, fill = runner_gender)) +\n",
        "  geom_density(alpha = 0.2) +\n",
        "  labs(title = \"Density Plot of Race Finishers by Runner Age\", x = \"Runner Age\", y = \"Density\") +\n",
        "  theme_minimal()\n"
      ],
      "metadata": {
        "id": "Xf1GKffUUq3t"
      },
      "execution_count": null,
      "outputs": []
    },
    {
      "cell_type": "code",
      "source": [
        "grid.arrange(plot_finish_minutes, plot_runner_age, ncol = 1)"
      ],
      "metadata": {
        "colab": {
          "base_uri": "https://localhost:8080/",
          "height": 437
        },
        "id": "3KTb3MgvUzgV",
        "outputId": "ee2d2fcf-fd20-4953-b47e-ae282e495d1f"
      },
      "execution_count": null,
      "outputs": [
        {
          "output_type": "display_data",
          "data": {
            "text/plain": [
              "plot without title"
            ],
            "image/png": "[encoded data removed]"
          },
          "metadata": {
            "image/png": {
              "width": 420,
              "height": 420
            }
          }
        }
      ]
    }
  ]
}